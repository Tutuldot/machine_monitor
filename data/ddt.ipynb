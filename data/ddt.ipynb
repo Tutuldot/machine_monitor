{
 "cells": [
  {
   "cell_type": "code",
   "execution_count": 4,
   "metadata": {},
   "outputs": [],
   "source": [
    "import pandas\n",
    "import os\n",
    "import json\n",
    "import sqlite3"
   ]
  },
  {
   "cell_type": "code",
   "execution_count": null,
   "metadata": {},
   "outputs": [],
   "source": []
  },
  {
   "cell_type": "code",
   "execution_count": 5,
   "metadata": {},
   "outputs": [],
   "source": [
    "#functions \n",
    "dbname = \"database.db\"\n",
    "def count_files_in_directory(directory):\n",
    "    return len([name for name in os.listdir(directory) if os.path.isfile(os.path.join(directory, name))])\n",
    "\n",
    "def list_directories_and_file_counts(start_path='.'):\n",
    "    for dirname, dirnames, filenames in os.walk(start_path):\n",
    "        # Print the directory path\n",
    "       \n",
    "        # Count the number of files in this directory\n",
    "        file_count = count_files_in_directory(dirname)\n",
    "        # Print the file count\n",
    "        print(f\"Directory: {dirname} Files : {file_count}\")\n",
    "\n",
    "def list_directories_and_filenames_to_dataframe(start_path='.'):\n",
    "    # Initialize an empty list to store the directory and file data\n",
    "    directory_files_data = []\n",
    "    \n",
    "    for dirname, dirnames, filenames in os.walk(start_path):\n",
    "        # For each file in the directory, append the directory path and file name\n",
    "        for filename in filenames:\n",
    "            directory_files_data.append((dirname, filename))\n",
    "    \n",
    "    # Create a DataFrame from the list of tuples\n",
    "    df = pd.DataFrame(directory_files_data, columns=['Directory', 'Filename'])\n",
    "    \n",
    "    return df\n",
    "\n",
    "\n",
    "\n",
    "def get_setup_file():\n",
    "\n",
    "    # Define the path to the JSON file\n",
    "    file_path = '../config/machine_setup.json'\n",
    "\n",
    "    data = None\n",
    "    # Read and parse the JSON data\n",
    "    with open(file_path, 'r') as file:\n",
    "        data = json.load(file)\n",
    "\n",
    "    return data\n",
    "\n",
    "def get_setup_file_by_name(data,machine_name):\n",
    "\n",
    "    for config in data:\n",
    "        # Access the configuration details\n",
    "        if machine_name == config['name']:\n",
    "            return config     \n",
    "       \n",
    "def unpack_config(config):\n",
    "    name = config['name']\n",
    "    root = config['root']\n",
    "    weekly_directory_format = config['weekly_directory_format']\n",
    "    files_to_monitor = config['files_to_monitor']\n",
    "  \n",
    "    directory_filter = config['directory_filter']\n",
    "            \n",
    "    return name, root, weekly_directory_format, files_to_monitor, directory_filter      \n",
    "                \n",
    "def sample_usage_using_config():\n",
    "\n",
    "    # list_directories_and_file_counts('/workspace/machine_monitor/sample_directory')\n",
    "    configuration = get_setup_file()\n",
    "    wirebond_config = get_setup_file_by_name(configuration,\"ACAI\")\n",
    "\n",
    "    name, root, weekly_directory_format, files_to_monitor, directory_filter  = unpack_config(wirebond_config)\n",
    "    # Print the information or process it as needed\n",
    "    for x in files_to_monitor:\n",
    "        print(x)   \n",
    "        print()\n",
    "\n",
    "\n",
    "def get_equipment_names():\n",
    "    configuration = get_setup_file()\n",
    "\n",
    "\n",
    "def get_machine_activity_by_name(eq_type):\n",
    "    conn = sqlite3.connect('database.db')\n",
    "\n",
    "    # Create a cursor object using the connection\n",
    "    cursor = conn.cursor()\n",
    "\n",
    "    # Define the SELECT query\n",
    "    query = \"SELECT * FROM machine_activity where machine_name = ?\"\n",
    "\n",
    "    # Execute the SELECT query\n",
    "    cursor.execute(query,(eq_type,))\n",
    "\n",
    "    # Fetch all the results of the query\n",
    "    results = cursor.fetchall()\n",
    "\n",
    "    # Check if there are any results and print them\n",
    "    ##if results:\n",
    "    #    for row in results:\n",
    "    #        print(row)\n",
    "    #else:\n",
    "    #    print(\"No data found in the 'users' table.\")\n",
    "\n",
    "    # Close the cursor and the connection\n",
    "    cursor.close()\n",
    "    conn.close()\n",
    "\n",
    "    return results\n",
    "\n",
    "    \n",
    "     "
   ]
  },
  {
   "cell_type": "code",
   "execution_count": 6,
   "metadata": {},
   "outputs": [
    {
     "name": "stdout",
     "output_type": "stream",
     "text": [
      "{'type': 'Image', 'file_extensions': ['jpg', 'jpeg'], 'file_date_format': ['XXXXXXXXXXX_MMDDYYYY_XXXXXXXXX-X'], 'file_regex': '^[0-9A-Z]{13}_[0-9]{8}_[0-9A-Z]{12}-[0-9]{2}\\\\.(jpg|png|csv|txt)$'}\n",
      "\n",
      "{'type': 'Text Files', 'file_extensions': ['txt', 'csv'], 'file_date_format': ['XXXXXXXXXXX_MMDDYYYY_XXXXXXXXX-X'], 'file_regex': '^[0-9A-Z]{13}_[0-9]{8}_[0-9A-Z]{12}-[0-9]{2}\\\\.(jpg|png|csv|txt)$'}\n",
      "\n"
     ]
    }
   ],
   "source": [
    "sample_usage_using_config()"
   ]
  },
  {
   "cell_type": "code",
   "execution_count": 7,
   "metadata": {},
   "outputs": [
    {
     "name": "stdout",
     "output_type": "stream",
     "text": [
      "(1, '2024-05-23 06:16:22', '2024-05-23 06:16:22', 'ACAI', 0, '2024-01-01', 'Image')\n",
      "(2, '2024-05-23 06:16:22', '2024-05-23 06:16:22', 'ACAI', 0, '2024-01-01', 'Text Files')\n"
     ]
    }
   ],
   "source": [
    "conn = sqlite3.connect('database.db')\n",
    "\n",
    "# Create a cursor object using the connection\n",
    "cursor = conn.cursor()\n",
    "\n",
    "# Define the SELECT query\n",
    "query = 'SELECT * FROM machine_activity where machine_name = \\'ACAI\\''\n",
    "\n",
    "# Execute the SELECT query\n",
    "cursor.execute(query)\n",
    "\n",
    "# Fetch all the results of the query\n",
    "results = cursor.fetchall()\n",
    "\n",
    "# Check if there are any results and print them\n",
    "if results:\n",
    "    for row in results:\n",
    "        print(row)\n",
    "else:\n",
    "    print(\"No data found in the 'users' table.\")\n",
    "\n",
    "# Close the cursor and the connection\n",
    "cursor.close()\n",
    "conn.close()"
   ]
  },
  {
   "cell_type": "code",
   "execution_count": 9,
   "metadata": {},
   "outputs": [
    {
     "data": {
      "text/plain": [
       "[(1,\n",
       "  '2024-05-23 06:16:22',\n",
       "  '2024-05-23 06:16:22',\n",
       "  'ACAI',\n",
       "  0,\n",
       "  '2024-01-01',\n",
       "  'Image'),\n",
       " (2,\n",
       "  '2024-05-23 06:16:22',\n",
       "  '2024-05-23 06:16:22',\n",
       "  'ACAI',\n",
       "  0,\n",
       "  '2024-01-01',\n",
       "  'Text Files')]"
      ]
     },
     "execution_count": 9,
     "metadata": {},
     "output_type": "execute_result"
    }
   ],
   "source": [
    "get_machine_activity_by_name(\"ACAI\")"
   ]
  },
  {
   "cell_type": "code",
   "execution_count": 14,
   "metadata": {},
   "outputs": [
    {
     "name": "stdout",
     "output_type": "stream",
     "text": [
      "ACAI\n",
      "ACAI = Image\n",
      "ACAI = Text Files\n",
      "WIREBOND\n",
      "WIREBOND = ALL\n"
     ]
    }
   ],
   "source": [
    "machine_setup = get_setup_file()\n",
    "\n",
    "\n",
    "for machine in machine_setup:\n",
    "    print(machine['name'])\n",
    "    machine_config = get_machine_activity_by_name(machine['name'])\n",
    "\n",
    "    for mc in machine_config:\n",
    "        print(mc[3] + \" = \" + mc[6])\n",
    "       \n"
   ]
  }
 ],
 "metadata": {
  "language_info": {
   "name": "python"
  }
 },
 "nbformat": 4,
 "nbformat_minor": 2
}
